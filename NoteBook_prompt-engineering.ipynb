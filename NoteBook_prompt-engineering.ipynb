{
 "cells": [
  {
   "cell_type": "code",
   "execution_count": 1,
   "id": "eacad448",
   "metadata": {},
   "outputs": [
    {
     "name": "stderr",
     "output_type": "stream",
     "text": [
      "/Users/ikramjanati/Documents/MemoireDIR/venv/lib/python3.11/site-packages/tqdm/auto.py:21: TqdmWarning: IProgress not found. Please update jupyter and ipywidgets. See https://ipywidgets.readthedocs.io/en/stable/user_install.html\n",
      "  from .autonotebook import tqdm as notebook_tqdm\n"
     ]
    }
   ],
   "source": [
    "import pandas as pd \n",
    "import xml.etree.ElementTree as xml\n",
    "import torch\n",
    "import numpy\n",
    "import os\n",
    "from openai import OpenAI\n",
    "import transformers\n",
    "from transformers import pipeline, AutoTokenizer, AutoModelForCausalLM\n",
    "import matplotlib\n",
    "from huggingface_hub import login\n"
   ]
  },
  {
   "cell_type": "code",
   "execution_count": null,
   "id": "b644cbfa",
   "metadata": {},
   "outputs": [
    {
     "name": "stdout",
     "output_type": "stream",
     "text": [
      "CSV créé avec 100 phrases ana=0 et 100 phrases ana=1\n"
     ]
    }
   ],
   "source": [
    "\"Parser le xml et extraire les balise s pour phrase et leur attribut sentence pour récupérer la phrase, choisir 100 dont l'attribut ana est à valeur 0 et pareil avec valeur à 1. Le premier indique un déclencheur EFECTIF de présupoistion et le second la négative.\"\n",
    "file_annoted_byIkram = \"triggers_cassation-corpus.xml\"\n",
    "tree = xml.parse(file_annoted_byIkram)\n",
    "root = tree.getroot()\n",
    "\n",
    "data_ana0 = []\n",
    "data_ana1 = []\n",
    "\n",
    "for s in root.findall(\".//s\"):\n",
    "    sentence_text = s.get(\"sentence\", \"\").strip()\n",
    "\n",
    "    # Chercher tous les triggers dans ce <s>\n",
    "    triggers = s.findall(\"trigger\")\n",
    "    anas_in_s = [t.get(\"ana\") for t in triggers if t.get(\"ana\") in (\"0\", \"1\")]\n",
    "\n",
    "    # On regarde si au moins un trigger a ana=0 ou ana=1\n",
    "    if \"0\" in anas_in_s and len(data_ana0) < 100:\n",
    "        data_ana0.append({\"ana\": \"0\", \"sentence\": sentence_text})\n",
    "    if \"1\" in anas_in_s and len(data_ana1) < 100:\n",
    "        data_ana1.append({\"ana\": \"1\", \"sentence\": sentence_text})\n",
    "\n",
    "    if len(data_ana0) >= 100 and len(data_ana1) >= 100:\n",
    "        break\n",
    "\n",
    "data = data_ana0 + data_ana1\n",
    "df = pd.DataFrame(data)\n",
    "df.to_csv(\"output_ana.csv\", index=False, sep=\";\")\n",
    "\n",
    "print(f\"CSV créé avec {len(data_ana0)} phrases ana=0 et {len(data_ana1)} phrases ana=1\")\n"
   ]
  },
  {
   "cell_type": "code",
   "execution_count": null,
   "id": "8c0d7c3d",
   "metadata": {},
   "outputs": [],
   "source": [
    "df =pd.read_csv(\"output_ana.csv\")\n",
    "\n"
   ]
  }
 ],
 "metadata": {
  "kernelspec": {
   "display_name": "venv (3.11.13)",
   "language": "python",
   "name": "python3"
  },
  "language_info": {
   "codemirror_mode": {
    "name": "ipython",
    "version": 3
   },
   "file_extension": ".py",
   "mimetype": "text/x-python",
   "name": "python",
   "nbconvert_exporter": "python",
   "pygments_lexer": "ipython3",
   "version": "3.11.13"
  }
 },
 "nbformat": 4,
 "nbformat_minor": 5
}
